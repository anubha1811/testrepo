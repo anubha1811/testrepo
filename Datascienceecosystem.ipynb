{
  "metadata": {
    "language_info": {
      "codemirror_mode": {
        "name": "python",
        "version": 3
      },
      "file_extension": ".py",
      "mimetype": "text/x-python",
      "name": "python",
      "nbconvert_exporter": "python",
      "pygments_lexer": "ipython3",
      "version": "3.8"
    },
    "kernelspec": {
      "name": "python",
      "display_name": "Python (Pyodide)",
      "language": "python"
    }
  },
  "nbformat_minor": 4,
  "nbformat": 4,
  "cells": [
    {
      "cell_type": "markdown",
      "source": "# Data Science Tools and Ecosystem",
      "metadata": {}
    },
    {
      "cell_type": "markdown",
      "source": "# In this notebook, Data Science Tools and Ecosystem are summarized. ",
      "metadata": {}
    },
    {
      "cell_type": "markdown",
      "source": "# **Objectives** \n# - List of popular languages used by Data Scientists \n# - List of commonly used libraries by Data Scientists \n# - Create a Table \n# - Introducing H3 heading with introducing arithmetic expression\n# - Code for Multiplying and adding integers \n# - Code for Coverting minutes into Hours",
      "metadata": {}
    },
    {
      "cell_type": "markdown",
      "source": "# Some of the popular languages Data scientists use are : \n# 1. Python \n# 2. R \n# 3. SQL\n# 4. Scala \n# 5. Julia",
      "metadata": {}
    },
    {
      "cell_type": "markdown",
      "source": "# Some of the commonly used libraries by Data Scientists include: \n# 1. Pandas\n# 2. Numpy\n# 3. Matplotlib\n# 4. Seabor \n# 5. Scikit- Learn\n# 6. Tensorflow",
      "metadata": {}
    },
    {
      "cell_type": "markdown",
      "source": " | Data Science Tools | \n | ------------------ |\n | R Studio |\n | Apache Spark | \n | Tensor Flow |\n | Jupyter Notebooks |\n | Git Hub | ",
      "metadata": {}
    },
    {
      "cell_type": "markdown",
      "source": "### Below are a few examples of evaluating arithmetic expressions in Python : ",
      "metadata": {}
    },
    {
      "cell_type": "code",
      "source": "print(\"This is a simple arithmetic expression to multiply and then add integers\")\n(3*4)+5",
      "metadata": {
        "trusted": true
      },
      "execution_count": 1,
      "outputs": [
        {
          "name": "stdout",
          "text": "This is a simple arithmetic expression to multiply and then add integers\n",
          "output_type": "stream"
        },
        {
          "execution_count": 1,
          "output_type": "execute_result",
          "data": {
            "text/plain": "17"
          },
          "metadata": {}
        }
      ]
    },
    {
      "cell_type": "code",
      "source": "print(\" This will convert 200 minutes to hours by dividing by 60\")\n200/60",
      "metadata": {
        "trusted": true
      },
      "execution_count": 2,
      "outputs": [
        {
          "name": "stdout",
          "text": " This will convert 200 minutes to hours by dividing by 60\n",
          "output_type": "stream"
        },
        {
          "execution_count": 2,
          "output_type": "execute_result",
          "data": {
            "text/plain": "3.3333333333333335"
          },
          "metadata": {}
        }
      ]
    },
    {
      "cell_type": "markdown",
      "source": "## Author \n## Anubha Mishra",
      "metadata": {}
    },
    {
      "cell_type": "code",
      "source": "",
      "metadata": {},
      "execution_count": null,
      "outputs": []
    }
  ]
}